{
  "nbformat": 4,
  "nbformat_minor": 0,
  "metadata": {
    "colab": {
      "provenance": [],
      "gpuType": "T4",
      "authorship_tag": "ABX9TyMnZqUK+3+lPLhVQMse3SJh",
      "include_colab_link": true
    },
    "kernelspec": {
      "name": "python3",
      "display_name": "Python 3"
    },
    "language_info": {
      "name": "python"
    },
    "accelerator": "GPU"
  },
  "cells": [
    {
      "cell_type": "markdown",
      "metadata": {
        "id": "view-in-github",
        "colab_type": "text"
      },
      "source": [
        "<a href=\"https://colab.research.google.com/github/ianbennett41430/ICP1/blob/main/ICP1.ipynb\" target=\"_parent\"><img src=\"https://colab.research.google.com/assets/colab-badge.svg\" alt=\"Open In Colab\"/></a>"
      ]
    },
    {
      "cell_type": "code",
      "execution_count": null,
      "metadata": {
        "id": "ckzZEsAsvdbi"
      },
      "outputs": [],
      "source": []
    },
    {
      "cell_type": "markdown",
      "source": [
        "Mount google drive\n"
      ],
      "metadata": {
        "id": "UkC8BI8gXLQJ"
      }
    },
    {
      "cell_type": "code",
      "source": [
        "from google.colab import drive\n",
        "drive.mount('/content/drive')\n",
        "\n",
        "#Function to reverse the string\n",
        "def reverse(string):\n",
        "    #end return\n",
        "    if len(string) == 0:\n",
        "        return string\n",
        "    #if string is not empty the program stores the last character in the next position of the new string\n",
        "    else:\n",
        "        return reverse(string[1:]) + string[0]\n",
        "\n",
        "#Changes python to htyp by deleting the last two letters 'on' and then reversing the string using the function above\n",
        "text = input(\"Enter 'python': \")\n",
        "print(reverse(text.replace('on', '')))\n",
        "\n",
        "#Gets number input from user for arithmetic operations\n",
        "num1 = int(input(\"Enter a number: \" ))\n",
        "num2 = int(input(\"Enter a second number: \"))\n",
        "\n",
        "#4 arithmetic operations(add,subtract,multiply and divide)\n",
        "#add\n",
        "addSum = num1 + num2\n",
        "print((num1),\"+\",(num2),\" = \",(addSum))\n",
        "#subtract\n",
        "subSum = num1 - num2\n",
        "print((num1),\"-\",(num2),\" = \",(subSum))\n",
        "#multiply\n",
        "multSum = num1 * num2\n",
        "print((num1),\"x\",(num2),\" = \",(multSum))\n",
        "#divide\n",
        "divSum = num1 / num2\n",
        "print((num1),\"/\",(num2),\" = \",(divSum))\n",
        "\n",
        "#reads in string to replace instences of python with pythons\n",
        "replaceString = input('Enter a string and python will be replaced with pythons: ')\n",
        "print(replaceString.replace('python','pythons'))\n",
        "\n",
        "#Will get score and output the corresponding letter grade\n",
        "grade = int(input('Enter your numeric grade to get its letter forum: '))\n",
        "if(grade >= 90):\n",
        "  print('A')\n",
        "elif(grade >= 80):\n",
        "  print('B')\n",
        "elif(grade >= 70):\n",
        "  print('C')\n",
        "elif(grade >= 60):\n",
        "  print('D')\n",
        "else:\n",
        "  print('F')"
      ],
      "metadata": {
        "colab": {
          "base_uri": "https://localhost:8080/"
        },
        "id": "CuadpJB1XPRu",
        "outputId": "7b90b926-22ef-48f7-f6c0-cdde8c68825b"
      },
      "execution_count": null,
      "outputs": [
        {
          "output_type": "stream",
          "name": "stdout",
          "text": [
            "Drive already mounted at /content/drive; to attempt to forcibly remount, call drive.mount(\"/content/drive\", force_remount=True).\n",
            "Enter 'python': python\n",
            "htyp\n",
            "Enter a number: 4\n",
            "Enter a second number: 2\n",
            "4 + 2  =  6\n",
            "4 - 2  =  2\n",
            "4 x 2  =  8\n",
            "4 / 2  =  2.0\n",
            "Enter a string and python will be replaced with pythons: I love playing with python\n",
            "I love playing with pythons\n",
            "Enter your numeric grade to get its letter forum: 83\n",
            "B\n"
          ]
        }
      ]
    }
  ]
}